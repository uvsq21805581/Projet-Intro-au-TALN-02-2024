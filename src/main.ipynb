{
 "cells": [
  {
   "cell_type": "markdown",
   "metadata": {},
   "source": [
    "# Importation"
   ]
  },
  {
   "cell_type": "code",
   "execution_count": 1,
   "metadata": {},
   "outputs": [],
   "source": [
    "import pandas as pd\n",
    "import random\n",
    "from sklearn.model_selection import train_test_split\n",
    "from sklearn.feature_extraction.text import TfidfVectorizer\n",
    "from sklearn.naive_bayes import MultinomialNB\n",
    "from sklearn.pipeline import make_pipeline\n",
    "from sklearn.model_selection import train_test_split\n",
    "from sklearn.metrics import classification_report\n",
    "from sklearn.metrics import confusion_matrix\n",
    "from sklearn.svm import SVC\n",
    "import seaborn as sns\n",
    "import matplotlib.pyplot as plt\n",
    "import spacy\n"
   ]
  },
  {
   "cell_type": "code",
   "execution_count": 2,
   "metadata": {},
   "outputs": [],
   "source": [
    "df = pd.read_csv('../data/corpus.csv')"
   ]
  },
  {
   "cell_type": "markdown",
   "metadata": {},
   "source": [
    "# Séparation test et entrainement"
   ]
  },
  {
   "cell_type": "code",
   "execution_count": 3,
   "metadata": {},
   "outputs": [],
   "source": [
    "train_df, test_df = train_test_split(df, test_size=0.2, random_state=42)\n",
    "\n",
    "train_df.to_csv('../data/train.csv', index=False)\n",
    "test_df.to_csv('../data/test.csv', index=False)\n"
   ]
  },
  {
   "cell_type": "markdown",
   "metadata": {},
   "source": [
    "### Ouvrir les csv qui ont déjà été divisés"
   ]
  },
  {
   "cell_type": "code",
   "execution_count": 4,
   "metadata": {},
   "outputs": [],
   "source": [
    "train_df = pd.read_csv('../data/train.csv')\n",
    "test_df = pd.read_csv('../data/test.csv')"
   ]
  },
  {
   "cell_type": "markdown",
   "metadata": {},
   "source": [
    "# Baseline "
   ]
  },
  {
   "cell_type": "markdown",
   "metadata": {},
   "source": [
    "### Prédiction aléatoire"
   ]
  },
  {
   "cell_type": "code",
   "execution_count": 5,
   "metadata": {},
   "outputs": [],
   "source": [
    "def random_prediction():\n",
    "    return random.choice(['Plat principal', 'Entrée', 'Dessert'])\n",
    "\n",
    "test_df['random prediction'] = test_df.apply(lambda x: random_prediction(), axis=1)\n"
   ]
  },
  {
   "cell_type": "markdown",
   "metadata": {},
   "source": [
    "### Prédiction classe majoritaire"
   ]
  },
  {
   "cell_type": "code",
   "execution_count": 6,
   "metadata": {},
   "outputs": [],
   "source": [
    "def main_class_prediction(train_df):\n",
    "    main_type = train_df['type'].mode()    \n",
    "    return main_type\n",
    "\n",
    "main_type = main_class_prediction(train_df)\n",
    "test_df['main class prediction'] = test_df.apply(lambda x: main_type, axis=1)"
   ]
  },
  {
   "cell_type": "markdown",
   "metadata": {},
   "source": [
    "# Model"
   ]
  },
  {
   "cell_type": "markdown",
   "metadata": {},
   "source": [
    "### SKlearn + Tfi-Df"
   ]
  },
  {
   "cell_type": "code",
   "execution_count": 7,
   "metadata": {},
   "outputs": [],
   "source": [
    "x_train = train_df['recette']\n",
    "y_train = train_df['type']\n",
    "\n",
    "model1 = make_pipeline(TfidfVectorizer(), MultinomialNB())\n",
    "\n",
    "model1.fit(x_train, y_train)\n",
    "\n",
    "y_pred_Sklearn = model1.predict(test_df['recette'])\n",
    "\n",
    "test_df['Tfi-Df prediction'] = y_pred_Sklearn\n",
    "\n",
    "y_test = test_df['type']"
   ]
  },
  {
   "cell_type": "markdown",
   "metadata": {},
   "source": [
    "### Spacy"
   ]
  },
  {
   "cell_type": "code",
   "execution_count": 9,
   "metadata": {},
   "outputs": [
    {
     "name": "stderr",
     "output_type": "stream",
     "text": [
      "c:\\Users\\Nicolas\\anaconda3\\Lib\\site-packages\\sklearn\\feature_extraction\\text.py:525: UserWarning: The parameter 'token_pattern' will not be used since 'tokenizer' is not None'\n",
      "  warnings.warn(\n"
     ]
    }
   ],
   "source": [
    "nlp = spacy.load(\"fr_core_news_sm\")\n",
    "\n",
    "def spacy_tokenizer(text):\n",
    "    tokens = nlp(text)\n",
    "    return [token.lemma_ for token in tokens if not token.is_punct and not token.is_stop]\n",
    "\n",
    "model2 = make_pipeline(TfidfVectorizer(tokenizer=spacy_tokenizer), SVC())\n",
    "\n",
    "model2.fit(x_train, y_train)\n",
    "\n",
    "y_pred_spacy = model2.predict(test_df['recette'])\n"
   ]
  },
  {
   "cell_type": "markdown",
   "metadata": {},
   "source": [
    "# Résultat"
   ]
  },
  {
   "cell_type": "markdown",
   "metadata": {},
   "source": [
    "### Random Prediction"
   ]
  },
  {
   "cell_type": "code",
   "execution_count": null,
   "metadata": {},
   "outputs": [],
   "source": [
    "y_rand = test_df['random prediction']\n",
    "\n",
    "conf_matrix = confusion_matrix(y_test, y_rand)\n",
    "\n",
    "conf_df = pd.DataFrame(conf_matrix, index=model.classes_, columns=model.classes_)\n",
    "\n",
    "print(\"Matrice de Confusion : \\n\", conf_df)\n",
    "\n",
    "plt.figure(figsize=(8,6))\n",
    "sns.heatmap(conf_df, annot=True, cmap=\"YlGnBu\", fmt='g')\n",
    "plt.title('Matrice de Confusion')\n",
    "plt.xlabel('Prédictions')\n",
    "plt.ylabel('Valeurs Réelles')\n",
    "plt.show()\n",
    "\n",
    "# Rappel - Precision - F1-score\n",
    "\n",
    "report = classification_report(y_test, y_rand)\n",
    "print(report)"
   ]
  },
  {
   "cell_type": "markdown",
   "metadata": {},
   "source": [
    "### Main Class Prediction"
   ]
  },
  {
   "cell_type": "code",
   "execution_count": null,
   "metadata": {},
   "outputs": [],
   "source": [
    "y_main = test_df['main class prediction']\n",
    "\n",
    "conf_matrix = confusion_matrix(y_test, y_main)\n",
    "\n",
    "conf_df = pd.DataFrame(conf_matrix, index=model.classes_, columns=model.classes_)\n",
    "\n",
    "print(\"Matrice de Confusion : \\n\", conf_df)\n",
    "\n",
    "plt.figure(figsize=(8,6))\n",
    "sns.heatmap(conf_df, annot=True, cmap=\"YlGnBu\", fmt='g')\n",
    "plt.title('Matrice de Confusion')\n",
    "plt.xlabel('Prédictions')\n",
    "plt.ylabel('Valeurs Réelles')\n",
    "plt.show()\n",
    "\n",
    "# Rappel - Precision - F1-score\n",
    "\n",
    "report = classification_report(y_test, y_main)\n",
    "print(report)"
   ]
  },
  {
   "cell_type": "markdown",
   "metadata": {},
   "source": [
    "### Sklearn + Tfi-DF"
   ]
  },
  {
   "cell_type": "code",
   "execution_count": null,
   "metadata": {},
   "outputs": [],
   "source": [
    "conf_matrix = confusion_matrix(y_test, y_pred_Sklearn)\n",
    "\n",
    "conf_df = pd.DataFrame(conf_matrix, index=model.classes_, columns=model.classes_)\n",
    "\n",
    "print(\"Matrice de Confusion : \\n\", conf_df)\n",
    "\n",
    "plt.figure(figsize=(8,6))\n",
    "sns.heatmap(conf_df, annot=True, cmap=\"YlGnBu\", fmt='g')\n",
    "plt.title('Matrice de Confusion')\n",
    "plt.xlabel('Prédictions')\n",
    "plt.ylabel('Valeurs Réelles')\n",
    "plt.show()\n",
    "\n",
    "# Rappel - Precision - F1-score\n",
    "\n",
    "report = classification_report(y_test, y_pred_Sklearn)\n",
    "print(report)"
   ]
  },
  {
   "cell_type": "markdown",
   "metadata": {},
   "source": [
    "### Spacy"
   ]
  },
  {
   "cell_type": "code",
   "execution_count": null,
   "metadata": {},
   "outputs": [],
   "source": [
    "conf_matrix = confusion_matrix(y_test, y_pred_spacy)\n",
    "\n",
    "conf_df = pd.DataFrame(conf_matrix, index=model.classes_, columns=model.classes_)\n",
    "\n",
    "print(\"Matrice de Confusion : \\n\", conf_df)\n",
    "\n",
    "plt.figure(figsize=(8,6))\n",
    "sns.heatmap(conf_df, annot=True, cmap=\"YlGnBu\", fmt='g')\n",
    "plt.title('Matrice de Confusion')\n",
    "plt.xlabel('Prédictions')\n",
    "plt.ylabel('Valeurs Réelles')\n",
    "plt.show()\n",
    "\n",
    "# Rappel - Precision - F1-score\n",
    "\n",
    "report = classification_report(y_test, y_pred_spacy)\n",
    "print(report)"
   ]
  },
  {
   "cell_type": "code",
   "execution_count": null,
   "metadata": {},
   "outputs": [],
   "source": []
  }
 ],
 "metadata": {
  "kernelspec": {
   "display_name": "base",
   "language": "python",
   "name": "python3"
  },
  "language_info": {
   "codemirror_mode": {
    "name": "ipython",
    "version": 3
   },
   "file_extension": ".py",
   "mimetype": "text/x-python",
   "name": "python",
   "nbconvert_exporter": "python",
   "pygments_lexer": "ipython3",
   "version": "3.11.5"
  }
 },
 "nbformat": 4,
 "nbformat_minor": 2
}
