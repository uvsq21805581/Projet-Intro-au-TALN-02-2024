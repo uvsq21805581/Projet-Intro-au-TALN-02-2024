{
 "cells": [
  {
   "cell_type": "markdown",
   "metadata": {},
   "source": [
    "# Importation"
   ]
  },
  {
   "cell_type": "code",
   "execution_count": 23,
   "metadata": {},
   "outputs": [],
   "source": [
    "import pandas as pd\n",
    "import random\n",
    "from sklearn.model_selection import train_test_split\n",
    "from sklearn.feature_extraction.text import TfidfVectorizer\n",
    "from sklearn.naive_bayes import MultinomialNB\n",
    "from sklearn.pipeline import make_pipeline\n",
    "from sklearn.model_selection import train_test_split\n",
    "from sklearn.metrics import classification_report\n",
    "from sklearn.metrics import confusion_matrix\n",
    "from sklearn.svm import SVC\n",
    "import seaborn as sns\n",
    "import matplotlib.pyplot as plt\n",
    "import spacy\n"
   ]
  },
  {
   "cell_type": "code",
   "execution_count": 24,
   "metadata": {},
   "outputs": [],
   "source": [
    "# df = pd.read_csv('../data/corpus.csv')"
   ]
  },
  {
   "cell_type": "markdown",
   "metadata": {},
   "source": [
    "# Séparation test et entrainement"
   ]
  },
  {
   "cell_type": "code",
   "execution_count": 25,
   "metadata": {},
   "outputs": [],
   "source": [
    "# train_df, test_df = train_test_split(df, test_size=0.2, random_state=42)\n",
    "\n",
    "# train_df.to_csv('../data/train.csv', index=False)\n",
    "# test_df.to_csv('../data/test.csv', index=False)\n"
   ]
  },
  {
   "cell_type": "markdown",
   "metadata": {},
   "source": [
    "### Ouvrir les csv qui ont déjà été divisés"
   ]
  },
  {
   "cell_type": "code",
   "execution_count": 26,
   "metadata": {},
   "outputs": [],
   "source": [
    "train_df = pd.read_csv('../data/train.csv')\n",
    "test_df = pd.read_csv('../data/test.csv')"
   ]
  },
  {
   "cell_type": "markdown",
   "metadata": {},
   "source": [
    "# Baseline "
   ]
  },
  {
   "cell_type": "markdown",
   "metadata": {},
   "source": [
    "### Prédiction aléatoire"
   ]
  },
  {
   "cell_type": "code",
   "execution_count": 27,
   "metadata": {},
   "outputs": [],
   "source": [
    "def random_prediction():\n",
    "    return random.choice(['Plat principal', 'Entrée', 'Dessert'])\n",
    "\n",
    "test_df['random y_pred_spacy'] = test_df.apply(lambda x: random_y_pred_spacy(), axis=1)\n"
   ]
  },
  {
   "cell_type": "markdown",
   "metadata": {},
   "source": [
    "### Prédiction classe majoritaire"
   ]
  },
  {
   "cell_type": "code",
   "execution_count": 28,
   "metadata": {},
   "outputs": [],
   "source": [
    "def main_class_prediction(train_df):\n",
    "    main_type = train_df['type'].mode()    \n",
    "    return main_type\n",
    "\n",
    "main_type = main_class_prediction(train_df)\n",
    "test_df['main class prediction'] = test_df.apply(lambda x: main_type, axis=1)"
   ]
  },
  {
   "cell_type": "markdown",
   "metadata": {},
   "source": [
    "# Model"
   ]
  },
  {
   "cell_type": "markdown",
   "metadata": {},
   "source": [
    "### SKlearn + Tfi-Df"
   ]
  },
  {
   "cell_type": "code",
   "execution_count": 29,
   "metadata": {},
   "outputs": [],
   "source": [
    "x_train = train_df['recette']\n",
    "y_train = train_df['type']\n",
    "\n",
    "model1 = make_pipeline(TfidfVectorizer(), MultinomialNB())\n",
    "\n",
    "model1.fit(x_train, y_train)\n",
    "\n",
    "y_pred_Sklearn = model1.predict(test_df['recette'])\n",
    "\n",
    "test_df['Tfi-Df prediction'] = y_pred_Sklearn\n",
    "\n",
    "y_test = test_df['type']"
   ]
  },
  {
   "cell_type": "markdown",
   "metadata": {},
   "source": [
    "### Spacy"
   ]
  },
  {
   "cell_type": "code",
   "execution_count": 30,
   "metadata": {},
   "outputs": [
    {
     "name": "stderr",
     "output_type": "stream",
     "text": [
      "c:\\Users\\Nicolas\\anaconda3\\Lib\\site-packages\\sklearn\\feature_extraction\\text.py:525: UserWarning: The parameter 'token_pattern' will not be used since 'tokenizer' is not None'\n",
      "  warnings.warn(\n"
     ]
    }
   ],
   "source": [
    "nlp = spacy.load(\"fr_core_news_sm\")\n",
    "\n",
    "def spacy_tokenizer(text):\n",
    "    tokens = nlp(text)\n",
    "    return [token.lemma_ for token in tokens if not token.is_punct and not token.is_stop]\n",
    "\n",
    "model2 = make_pipeline(TfidfVectorizer(tokenizer=spacy_tokenizer), SVC())\n",
    "\n",
    "model2.fit(x_train, y_train)\n",
    "\n",
    "y_pred_spacy = model2.predict(test_df['recette'])\n",
    "\n",
    "test_df['Spacy prediction'] = y_pred_spacy\n"
   ]
  },
  {
   "cell_type": "markdown",
   "metadata": {},
   "source": [
    "# Résultat"
   ]
  },
  {
   "cell_type": "markdown",
   "metadata": {},
   "source": [
    "### Random Prediction"
   ]
  },
  {
   "cell_type": "code",
   "execution_count": null,
   "metadata": {},
   "outputs": [
    {
     "name": "stdout",
     "output_type": "stream",
     "text": [
      "Matrice de Confusion : \n",
      "      0    1    2\n",
      "0  225  249  252\n",
      "1  188  205  218\n",
      "2  402  373  383\n"
     ]
    },
    {
     "data": {
      "image/png": "[encoded data removed]",
      "text/plain": [
       "<Figure size 800x600 with 2 Axes>"
      ]
     },
     "metadata": {},
     "output_type": "display_data"
    },
    {
     "name": "stdout",
     "output_type": "stream",
     "text": [
      "                precision    recall  f1-score   support\n",
      "\n",
      "       Dessert       0.28      0.31      0.29       726\n",
      "        Entrée       0.25      0.34      0.29       611\n",
      "Plat principal       0.45      0.33      0.38      1158\n",
      "\n",
      "      accuracy                           0.33      2495\n",
      "     macro avg       0.32      0.33      0.32      2495\n",
      "  weighted avg       0.35      0.33      0.33      2495\n",
      "\n"
     ]
    }
   ],
   "source": [
    "y_rand = test_df['random prediction']\n",
    "\n",
    "conf_matrix = confusion_matrix(y_test, y_rand)\n",
    "\n",
    "conf_df = pd.DataFrame(conf_matrix)\n",
    "\n",
    "print(\"Matrice de Confusion : \\n\", conf_df)\n",
    "\n",
    "plt.figure(figsize=(8,6))\n",
    "sns.heatmap(conf_df, annot=True, cmap=\"YlGnBu\", fmt='g')\n",
    "plt.title('Matrice de Confusion')\n",
    "plt.xlabel('Prédictions')\n",
    "plt.ylabel('Valeurs Réelles')\n",
    "plt.show()\n",
    "\n",
    "# Rappel - Precision - F1-score\n",
    "\n",
    "report = classification_report(y_test, y_rand)\n",
    "print(report)"
   ]
  },
  {
   "cell_type": "markdown",
   "metadata": {},
   "source": [
    "### Main Class Prediction"
   ]
  },
  {
   "cell_type": "code",
   "execution_count": null,
   "metadata": {},
   "outputs": [
    {
     "name": "stdout",
     "output_type": "stream",
     "text": [
      "Matrice de Confusion : \n",
      "    0  1     2\n",
      "0  0  0   726\n",
      "1  0  0   611\n",
      "2  0  0  1158\n"
     ]
    },
    {
     "data": {
      "image/png": "[encoded data removed]",
      "text/plain": [
       "<Figure size 800x600 with 2 Axes>"
      ]
     },
     "metadata": {},
     "output_type": "display_data"
    },
    {
     "name": "stdout",
     "output_type": "stream",
     "text": [
      "                precision    recall  f1-score   support\n",
      "\n",
      "       Dessert       0.00      0.00      0.00       726\n",
      "        Entrée       0.00      0.00      0.00       611\n",
      "Plat principal       0.46      1.00      0.63      1158\n",
      "\n",
      "      accuracy                           0.46      2495\n",
      "     macro avg       0.15      0.33      0.21      2495\n",
      "  weighted avg       0.22      0.46      0.29      2495\n",
      "\n"
     ]
    },
    {
     "name": "stderr",
     "output_type": "stream",
     "text": [
      "c:\\Users\\Nicolas\\anaconda3\\Lib\\site-packages\\sklearn\\metrics\\_classification.py:1469: UndefinedMetricWarning: Precision and F-score are ill-defined and being set to 0.0 in labels with no predicted samples. Use `zero_division` parameter to control this behavior.\n",
      "  _warn_prf(average, modifier, msg_start, len(result))\n",
      "c:\\Users\\Nicolas\\anaconda3\\Lib\\site-packages\\sklearn\\metrics\\_classification.py:1469: UndefinedMetricWarning: Precision and F-score are ill-defined and being set to 0.0 in labels with no predicted samples. Use `zero_division` parameter to control this behavior.\n",
      "  _warn_prf(average, modifier, msg_start, len(result))\n",
      "c:\\Users\\Nicolas\\anaconda3\\Lib\\site-packages\\sklearn\\metrics\\_classification.py:1469: UndefinedMetricWarning: Precision and F-score are ill-defined and being set to 0.0 in labels with no predicted samples. Use `zero_division` parameter to control this behavior.\n",
      "  _warn_prf(average, modifier, msg_start, len(result))\n"
     ]
    }
   ],
   "source": [
    "y_main = test_df['main class prediction']\n",
    "\n",
    "conf_matrix = confusion_matrix(y_test, y_main)\n",
    "\n",
    "conf_df = pd.DataFrame(conf_matrix)\n",
    "\n",
    "print(\"Matrice de Confusion : \\n\", conf_df)\n",
    "\n",
    "plt.figure(figsize=(8,6))\n",
    "sns.heatmap(conf_df, annot=True, cmap=\"YlGnBu\", fmt='g')\n",
    "plt.title('Matrice de Confusion')\n",
    "plt.xlabel('Prédictions')\n",
    "plt.ylabel('Valeurs Réelles')\n",
    "plt.show()\n",
    "\n",
    "# Rappel - Precision - F1-score\n",
    "\n",
    "report = classification_report(y_test, y_main)\n",
    "print(report)"
   ]
  },
  {
   "cell_type": "markdown",
   "metadata": {},
   "source": [
    "### Sklearn + Tfi-DF"
   ]
  },
  {
   "cell_type": "code",
   "execution_count": null,
   "metadata": {},
   "outputs": [
    {
     "name": "stdout",
     "output_type": "stream",
     "text": [
      "Matrice de Confusion : \n",
      "                 Dessert  Entrée  Plat principal\n",
      "Dessert             700       0              26\n",
      "Entrée               20      35             556\n",
      "Plat principal        8       6            1144\n"
     ]
    },
    {
     "data": {
      "image/png": "[encoded data removed]",
      "text/plain": [
       "<Figure size 800x600 with 2 Axes>"
      ]
     },
     "metadata": {},
     "output_type": "display_data"
    },
    {
     "name": "stdout",
     "output_type": "stream",
     "text": [
      "                precision    recall  f1-score   support\n",
      "\n",
      "       Dessert       0.96      0.96      0.96       726\n",
      "        Entrée       0.85      0.06      0.11       611\n",
      "Plat principal       0.66      0.99      0.79      1158\n",
      "\n",
      "      accuracy                           0.75      2495\n",
      "     macro avg       0.83      0.67      0.62      2495\n",
      "  weighted avg       0.80      0.75      0.67      2495\n",
      "\n"
     ]
    }
   ],
   "source": [
    "conf_matrix = confusion_matrix(y_test, y_pred_Sklearn)\n",
    "\n",
    "conf_df = pd.DataFrame(conf_matrix, index=model1.classes_, columns=model1.classes_)\n",
    "\n",
    "print(\"Matrice de Confusion : \\n\", conf_df)\n",
    "\n",
    "plt.figure(figsize=(8,6))\n",
    "sns.heatmap(conf_df, annot=True, cmap=\"YlGnBu\", fmt='g')\n",
    "plt.title('Matrice de Confusion')\n",
    "plt.xlabel('Prédictions')\n",
    "plt.ylabel('Valeurs Réelles')\n",
    "plt.show()\n",
    "\n",
    "# Rappel - Precision - F1-score\n",
    "\n",
    "report = classification_report(y_test, y_pred_Sklearn)\n",
    "print(report)"
   ]
  },
  {
   "cell_type": "markdown",
   "metadata": {},
   "source": [
    "### Spacy"
   ]
  },
  {
   "cell_type": "code",
   "execution_count": null,
   "metadata": {},
   "outputs": [
    {
     "name": "stdout",
     "output_type": "stream",
     "text": [
      "Matrice de Confusion : \n",
      "                 Dessert  Entrée  Plat principal\n",
      "Dessert             723       1               2\n",
      "Entrée               13     378             220\n",
      "Plat principal        6     101            1051\n"
     ]
    },
    {
     "data": {
      "image/png": "[encoded data removed]",
      "text/plain": [
       "<Figure size 800x600 with 2 Axes>"
      ]
     },
     "metadata": {},
     "output_type": "display_data"
    },
    {
     "name": "stdout",
     "output_type": "stream",
     "text": [
      "                precision    recall  f1-score   support\n",
      "\n",
      "       Dessert       0.97      1.00      0.99       726\n",
      "        Entrée       0.79      0.62      0.69       611\n",
      "Plat principal       0.83      0.91      0.86      1158\n",
      "\n",
      "      accuracy                           0.86      2495\n",
      "     macro avg       0.86      0.84      0.85      2495\n",
      "  weighted avg       0.86      0.86      0.86      2495\n",
      "\n"
     ]
    }
   ],
   "source": [
    "conf_matrix = confusion_matrix(y_test, y_pred_spacy)\n",
    "\n",
    "conf_df = pd.DataFrame(conf_matrix, index=model2.classes_, columns=model2.classes_)\n",
    "\n",
    "print(\"Matrice de Confusion : \\n\", conf_df)\n",
    "\n",
    "plt.figure(figsize=(8,6))\n",
    "sns.heatmap(conf_df, annot=True, cmap=\"YlGnBu\", fmt='g')\n",
    "plt.title('Matrice de Confusion')\n",
    "plt.xlabel('Prédictions')\n",
    "plt.ylabel('Valeurs Réelles')\n",
    "plt.show()\n",
    "\n",
    "# Rappel - Precision - F1-score\n",
    "\n",
    "report = classification_report(y_test, y_pred_spacy)\n",
    "print(report)"
   ]
  },
  {
   "cell_type": "code",
   "execution_count": null,
   "metadata": {},
   "outputs": [
    {
     "data": {
      "text/html": [
       "<div>\n",
       "<style scoped>\n",
       "    .dataframe tbody tr th:only-of-type {\n",
       "        vertical-align: middle;\n",
       "    }\n",
       "\n",
       "    .dataframe tbody tr th {\n",
       "        vertical-align: top;\n",
       "    }\n",
       "\n",
       "    .dataframe thead th {\n",
       "        text-align: right;\n",
       "    }\n",
       "</style>\n",
       "<table border=\"1\" class=\"dataframe\">\n",
       "  <thead>\n",
       "    <tr style=\"text-align: right;\">\n",
       "      <th></th>\n",
       "      <th>doc_id</th>\n",
       "      <th>titre</th>\n",
       "      <th>type</th>\n",
       "      <th>difficulte</th>\n",
       "      <th>cout</th>\n",
       "      <th>ingredients</th>\n",
       "      <th>recette</th>\n",
       "      <th>random prediction</th>\n",
       "      <th>main class prediction</th>\n",
       "      <th>Tfi-Df prediction</th>\n",
       "      <th>Spacy prediction</th>\n",
       "    </tr>\n",
       "  </thead>\n",
       "  <tbody>\n",
       "    <tr>\n",
       "      <th>0</th>\n",
       "      <td>recette_169081.xml</td>\n",
       "      <td>Tarte poireaux saumon Philadelphia</td>\n",
       "      <td>Plat principal</td>\n",
       "      <td>Facile</td>\n",
       "      <td>Moyen</td>\n",
       "      <td>- 3 beaux poireaux - 100 à 150 g de saumon fum...</td>\n",
       "      <td>Faire cuire à blanc la pâte brisée : 5 à 7 min...</td>\n",
       "      <td>Entrée</td>\n",
       "      <td>Plat principal</td>\n",
       "      <td>Plat principal</td>\n",
       "      <td>Plat principal</td>\n",
       "    </tr>\n",
       "    <tr>\n",
       "      <th>1</th>\n",
       "      <td>recette_56542.xml</td>\n",
       "      <td>Gratin de pommes de terre complet</td>\n",
       "      <td>Plat principal</td>\n",
       "      <td>Très facile</td>\n",
       "      <td>Bon marché</td>\n",
       "      <td>- 10 pommes de terre - 10 tranches lard détail...</td>\n",
       "      <td>Cuire les pommes de terre à l'eau bouillante. ...</td>\n",
       "      <td>Plat principal</td>\n",
       "      <td>Plat principal</td>\n",
       "      <td>Plat principal</td>\n",
       "      <td>Plat principal</td>\n",
       "    </tr>\n",
       "    <tr>\n",
       "      <th>2</th>\n",
       "      <td>recette_90821.xml</td>\n",
       "      <td>Charlotte aux fraises facile</td>\n",
       "      <td>Dessert</td>\n",
       "      <td>Facile</td>\n",
       "      <td>Moyen</td>\n",
       "      <td>- 450 g de fraises - 30 biscuits cuillers - 50...</td>\n",
       "      <td>Mettre au congélateur pendant 30 minutes mini ...</td>\n",
       "      <td>Entrée</td>\n",
       "      <td>Plat principal</td>\n",
       "      <td>Dessert</td>\n",
       "      <td>Dessert</td>\n",
       "    </tr>\n",
       "    <tr>\n",
       "      <th>3</th>\n",
       "      <td>recette_56075.xml</td>\n",
       "      <td>Tarte aux poires et verveine</td>\n",
       "      <td>Dessert</td>\n",
       "      <td>Très facile</td>\n",
       "      <td>Bon marché</td>\n",
       "      <td>- 3 belles poires - 1 pâte feuilletée - 20 cl ...</td>\n",
       "      <td>Préchauffer le four thermostat 7 (210°C). Prép...</td>\n",
       "      <td>Plat principal</td>\n",
       "      <td>Plat principal</td>\n",
       "      <td>Dessert</td>\n",
       "      <td>Dessert</td>\n",
       "    </tr>\n",
       "    <tr>\n",
       "      <th>4</th>\n",
       "      <td>recette_27524.xml</td>\n",
       "      <td>Tarte à la compote de rhubarbe et poudre d'ama...</td>\n",
       "      <td>Dessert</td>\n",
       "      <td>Facile</td>\n",
       "      <td>Moyen</td>\n",
       "      <td>- 1 pâte brisée - 500 g de rhubarbe - 100 g de...</td>\n",
       "      <td>EPlez et coupez la rhubarbe en morceaux. Faite...</td>\n",
       "      <td>Plat principal</td>\n",
       "      <td>Plat principal</td>\n",
       "      <td>Dessert</td>\n",
       "      <td>Dessert</td>\n",
       "    </tr>\n",
       "    <tr>\n",
       "      <th>...</th>\n",
       "      <td>...</td>\n",
       "      <td>...</td>\n",
       "      <td>...</td>\n",
       "      <td>...</td>\n",
       "      <td>...</td>\n",
       "      <td>...</td>\n",
       "      <td>...</td>\n",
       "      <td>...</td>\n",
       "      <td>...</td>\n",
       "      <td>...</td>\n",
       "      <td>...</td>\n",
       "    </tr>\n",
       "    <tr>\n",
       "      <th>95</th>\n",
       "      <td>recette_171683.xml</td>\n",
       "      <td>Croque-biquette</td>\n",
       "      <td>Plat principal</td>\n",
       "      <td>Très facile</td>\n",
       "      <td>Bon marché</td>\n",
       "      <td>- 8 tranches de pain de mie extra-moelleuses -...</td>\n",
       "      <td>Tartiner toutes les tranches de pain de mie de...</td>\n",
       "      <td>Plat principal</td>\n",
       "      <td>Plat principal</td>\n",
       "      <td>Plat principal</td>\n",
       "      <td>Plat principal</td>\n",
       "    </tr>\n",
       "    <tr>\n",
       "      <th>96</th>\n",
       "      <td>recette_18864.xml</td>\n",
       "      <td>Petits muffins d'automne aux myrtilles</td>\n",
       "      <td>Dessert</td>\n",
       "      <td>Très facile</td>\n",
       "      <td>Bon marché</td>\n",
       "      <td>- 1 yaourt nature (conserver le pot comme mesu...</td>\n",
       "      <td>Préchauffer votre four à 160°C. Mélanger tous ...</td>\n",
       "      <td>Plat principal</td>\n",
       "      <td>Plat principal</td>\n",
       "      <td>Dessert</td>\n",
       "      <td>Dessert</td>\n",
       "    </tr>\n",
       "    <tr>\n",
       "      <th>97</th>\n",
       "      <td>recette_164748.xml</td>\n",
       "      <td>Épaule d'agneau sucrée</td>\n",
       "      <td>Plat principal</td>\n",
       "      <td>Facile</td>\n",
       "      <td>Moyen</td>\n",
       "      <td>- 1 épaule d'agneau - 1 l de vin blanc moelleu...</td>\n",
       "      <td>Faire dorer dans une cocotte l'épaule d'agneau...</td>\n",
       "      <td>Plat principal</td>\n",
       "      <td>Plat principal</td>\n",
       "      <td>Plat principal</td>\n",
       "      <td>Plat principal</td>\n",
       "    </tr>\n",
       "    <tr>\n",
       "      <th>98</th>\n",
       "      <td>recette_55951.xml</td>\n",
       "      <td>Galette poitevine</td>\n",
       "      <td>Dessert</td>\n",
       "      <td>Très facile</td>\n",
       "      <td>Bon marché</td>\n",
       "      <td>- 2 oeufs - 250 g de beurre doux des Deux Sèvr...</td>\n",
       "      <td>Préchauffer le four. Battre très vigureusement...</td>\n",
       "      <td>Entrée</td>\n",
       "      <td>Plat principal</td>\n",
       "      <td>Dessert</td>\n",
       "      <td>Dessert</td>\n",
       "    </tr>\n",
       "    <tr>\n",
       "      <th>99</th>\n",
       "      <td>recette_25848.xml</td>\n",
       "      <td>Veau aux poireaux et raisins secs</td>\n",
       "      <td>Plat principal</td>\n",
       "      <td>Facile</td>\n",
       "      <td>Moyen</td>\n",
       "      <td>- 1,2 kg de poitrine de veau - 1 kg de poireau...</td>\n",
       "      <td>Découpez la viande en gros cubes, salez et poi...</td>\n",
       "      <td>Entrée</td>\n",
       "      <td>Plat principal</td>\n",
       "      <td>Plat principal</td>\n",
       "      <td>Plat principal</td>\n",
       "    </tr>\n",
       "  </tbody>\n",
       "</table>\n",
       "<p>100 rows × 11 columns</p>\n",
       "</div>"
      ],
      "text/plain": [
       "                doc_id                                              titre  \\\n",
       "0   recette_169081.xml                 Tarte poireaux saumon Philadelphia   \n",
       "1    recette_56542.xml                  Gratin de pommes de terre complet   \n",
       "2    recette_90821.xml                       Charlotte aux fraises facile   \n",
       "3    recette_56075.xml                       Tarte aux poires et verveine   \n",
       "4    recette_27524.xml  Tarte à la compote de rhubarbe et poudre d'ama...   \n",
       "..                 ...                                                ...   \n",
       "95  recette_171683.xml                                    Croque-biquette   \n",
       "96   recette_18864.xml             Petits muffins d'automne aux myrtilles   \n",
       "97  recette_164748.xml                             Épaule d'agneau sucrée   \n",
       "98   recette_55951.xml                                  Galette poitevine   \n",
       "99   recette_25848.xml                  Veau aux poireaux et raisins secs   \n",
       "\n",
       "              type   difficulte        cout  \\\n",
       "0   Plat principal       Facile       Moyen   \n",
       "1   Plat principal  Très facile  Bon marché   \n",
       "2          Dessert       Facile       Moyen   \n",
       "3          Dessert  Très facile  Bon marché   \n",
       "4          Dessert       Facile       Moyen   \n",
       "..             ...          ...         ...   \n",
       "95  Plat principal  Très facile  Bon marché   \n",
       "96         Dessert  Très facile  Bon marché   \n",
       "97  Plat principal       Facile       Moyen   \n",
       "98         Dessert  Très facile  Bon marché   \n",
       "99  Plat principal       Facile       Moyen   \n",
       "\n",
       "                                          ingredients  \\\n",
       "0   - 3 beaux poireaux - 100 à 150 g de saumon fum...   \n",
       "1   - 10 pommes de terre - 10 tranches lard détail...   \n",
       "2   - 450 g de fraises - 30 biscuits cuillers - 50...   \n",
       "3   - 3 belles poires - 1 pâte feuilletée - 20 cl ...   \n",
       "4   - 1 pâte brisée - 500 g de rhubarbe - 100 g de...   \n",
       "..                                                ...   \n",
       "95  - 8 tranches de pain de mie extra-moelleuses -...   \n",
       "96  - 1 yaourt nature (conserver le pot comme mesu...   \n",
       "97  - 1 épaule d'agneau - 1 l de vin blanc moelleu...   \n",
       "98  - 2 oeufs - 250 g de beurre doux des Deux Sèvr...   \n",
       "99  - 1,2 kg de poitrine de veau - 1 kg de poireau...   \n",
       "\n",
       "                                              recette random prediction  \\\n",
       "0   Faire cuire à blanc la pâte brisée : 5 à 7 min...            Entrée   \n",
       "1   Cuire les pommes de terre à l'eau bouillante. ...    Plat principal   \n",
       "2   Mettre au congélateur pendant 30 minutes mini ...            Entrée   \n",
       "3   Préchauffer le four thermostat 7 (210°C). Prép...    Plat principal   \n",
       "4   EPlez et coupez la rhubarbe en morceaux. Faite...    Plat principal   \n",
       "..                                                ...               ...   \n",
       "95  Tartiner toutes les tranches de pain de mie de...    Plat principal   \n",
       "96  Préchauffer votre four à 160°C. Mélanger tous ...    Plat principal   \n",
       "97  Faire dorer dans une cocotte l'épaule d'agneau...    Plat principal   \n",
       "98  Préchauffer le four. Battre très vigureusement...            Entrée   \n",
       "99  Découpez la viande en gros cubes, salez et poi...            Entrée   \n",
       "\n",
       "   main class prediction Tfi-Df prediction Spacy prediction  \n",
       "0         Plat principal    Plat principal   Plat principal  \n",
       "1         Plat principal    Plat principal   Plat principal  \n",
       "2         Plat principal           Dessert          Dessert  \n",
       "3         Plat principal           Dessert          Dessert  \n",
       "4         Plat principal           Dessert          Dessert  \n",
       "..                   ...               ...              ...  \n",
       "95        Plat principal    Plat principal   Plat principal  \n",
       "96        Plat principal           Dessert          Dessert  \n",
       "97        Plat principal    Plat principal   Plat principal  \n",
       "98        Plat principal           Dessert          Dessert  \n",
       "99        Plat principal    Plat principal   Plat principal  \n",
       "\n",
       "[100 rows x 11 columns]"
      ]
     },
     "execution_count": 13,
     "metadata": {},
     "output_type": "execute_result"
    }
   ],
   "source": [
    "from sklearn.metrics import accuracy_score, precision_score, recall_score, f1_score, confusion_matrix, classification_report\n",
    "\n",
    "# Compute evaluation metrics\n",
    "accuracy = accuracy_score(test_df[\"type\"], y_pred_spacy)\n",
    "precision = precision_score(test_df[\"type\"], y_pred_spacy, average='weighted')\n",
    "recall = recall_score(test_df[\"type\"], y_pred_spacy, average='weighted')\n",
    "f1 = f1_score(test_df[\"type\"], y_pred_spacy, average='weighted')\n",
    "conf_matrix = confusion_matrix(test_df[\"type\"], y_pred_spacy)\n",
    "class_report = classification_report(test_df[\"type\"], y_pred_spacy)\n",
    "\n",
    "# Print the evaluation metrics\n",
    "print(\"Evaluation Metrics:\")\n",
    "print(f\"Accuracy: {accuracy}\")\n",
    "print(f\"Precision: {precision}\")\n",
    "print(f\"Recall: {recall}\")\n",
    "print(f\"F1 Score: {f1}\")\n",
    "print(\"Confusion Matrix:\")\n",
    "print(conf_matrix)\n",
    "print(\"Classification Report:\")\n",
    "print(class_report)"
   ]
  },
  {
   "cell_type": "code",
   "execution_count": null,
   "metadata": {},
   "outputs": [],
   "source": []
  }
 ],
 "metadata": {
  "kernelspec": {
   "display_name": "base",
   "language": "python",
   "name": "python3"
  },
  "language_info": {
   "codemirror_mode": {
    "name": "ipython",
    "version": 3
   },
   "file_extension": ".py",
   "mimetype": "text/x-python",
   "name": "python",
   "nbconvert_exporter": "python",
   "pygments_lexer": "ipython3",
   "version": "3.11.5"
  }
 },
 "nbformat": 4,
 "nbformat_minor": 2
}
